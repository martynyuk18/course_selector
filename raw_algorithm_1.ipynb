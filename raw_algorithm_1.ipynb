{
 "cells": [
  {
   "cell_type": "code",
   "execution_count": null,
   "metadata": {},
   "outputs": [],
   "source": [
    "import pandas as pd\n",
    "data = pd.read_csv('data.csv')"
   ]
  },
  {
   "cell_type": "code",
   "execution_count": 56,
   "metadata": {},
   "outputs": [],
   "source": [
    "user_input = ['математика', 'физика', 'русский язык']\n",
    "all_variants = []\n",
    "for inp in user_input:\n",
    "    result = data.loc[data['entrance_tests'] == inp]\n",
    "    result_list = list(result.program_spec.values)\n",
    "    all_variants += result_list\n",
    "all_variants.sort()"
   ]
  },
  {
   "cell_type": "code",
   "execution_count": 57,
   "metadata": {},
   "outputs": [
    {
     "data": {
      "text/plain": [
       "['Античность',\n",
       " 'Античность',\n",
       " 'Бизнес-информатика',\n",
       " 'Бизнес-информатика',\n",
       " 'География  глобальных изменений и геоинформационные технологии',\n",
       " 'География  глобальных изменений и геоинформационные технологии',\n",
       " 'Городское планирование',\n",
       " 'Городское планирование',\n",
       " 'Государственное и муниципальное управление',\n",
       " 'Государственное и муниципальное управление',\n",
       " 'Журналистика',\n",
       " 'Иностранные языки и межкультурная коммуникация',\n",
       " 'Инфокоммуникационные технологии и системы связи',\n",
       " 'Инфокоммуникационные технологии и системы связи',\n",
       " 'Инфокоммуникационные технологии и системы связи',\n",
       " 'Информатика и вычислительная техника',\n",
       " 'Информатика и вычислительная техника',\n",
       " 'Информатика и вычислительная техника',\n",
       " 'Информационная безопасность',\n",
       " 'Информационная безопасность',\n",
       " 'Информационная безопасность',\n",
       " 'История',\n",
       " 'Клеточная и молекулярная биотехнология',\n",
       " 'Клеточная и молекулярная биотехнология',\n",
       " 'Компьютерная безопасность',\n",
       " 'Компьютерная безопасность',\n",
       " 'Маркетинг и рыночная аналитика',\n",
       " 'Маркетинг и рыночная аналитика',\n",
       " 'Математика',\n",
       " 'Математика',\n",
       " 'Математика',\n",
       " 'Медиакоммуникации',\n",
       " 'Международные отношения',\n",
       " 'Мировая экономика',\n",
       " 'Мировая экономика',\n",
       " 'Политология',\n",
       " 'Прикладная математика',\n",
       " 'Прикладная математика',\n",
       " 'Прикладная математика',\n",
       " 'Прикладная математика и информатика',\n",
       " 'Прикладная математика и информатика',\n",
       " 'Программа двух дипломов НИУ ВШЭ и Лондонского университета «Прикладной анализ данных»   (реализуется на\\nанглийском языке)',\n",
       " 'Программа двух дипломов НИУ ВШЭ и Лондонского университета «Прикладной анализ данных»   (реализуется на\\nанглийском языке)',\n",
       " 'Программа двух дипломов НИУ ВШЭ и Лондонского университета по международным\\nотношениям (реализуется на английском\\nязыке)',\n",
       " 'Программа двух дипломов НИУ ВШЭ и Лондонского университета по международным\\nотношениям (реализуется на английском\\nязыке)',\n",
       " 'Программа двух дипломов НИУ ВШЭ и Университета Кёнхи «Экономика и политика в Азии» (реализуется на\\nанглийском языке)',\n",
       " 'Программа двух дипломов по экономике НИУ ВШЭ и Лондонского университета (реализуется на английском языке)',\n",
       " 'Программа двух дипломов по экономике НИУ ВШЭ и Лондонского университета (реализуется на английском языке)',\n",
       " 'Программная инженерия',\n",
       " 'Программная инженерия',\n",
       " 'Психология',\n",
       " 'Психология',\n",
       " 'Реклама и связи с общественностью',\n",
       " 'Совместная программа по экономике НИУ ВШЭ и РЭШ',\n",
       " 'Совместная программа по экономике НИУ ВШЭ и РЭШ',\n",
       " 'Совместный бакалавриат НИУ ВШЭ и Центра педагогического мастерства',\n",
       " 'Совместный бакалавриат НИУ ВШЭ и Центра педагогического мастерства',\n",
       " 'Совместный бакалавриат НИУ ВШЭ и Центра педагогического мастерства',\n",
       " 'Современное искусство',\n",
       " 'Социология',\n",
       " 'Социология',\n",
       " 'Управление бизнесом',\n",
       " 'Управление бизнесом',\n",
       " 'Управление логистикой и цепями поставок',\n",
       " 'Управление логистикой и цепями поставок',\n",
       " 'Физика',\n",
       " 'Физика',\n",
       " 'Физика',\n",
       " 'Филология',\n",
       " 'Философия',\n",
       " 'Фундаментальная и компьютерная лингвистика',\n",
       " 'Фундаментальная и компьютерная лингвистика',\n",
       " 'Химия',\n",
       " 'Химия',\n",
       " 'Цифровые инновации в управлении предприятием (программа двух дипломов НИУ ВШЭ и Лондонского университета)\\n(реализуется на английском языке)',\n",
       " 'Цифровые инновации в управлении предприятием (программа двух дипломов НИУ ВШЭ и Лондонского университета)\\n(реализуется на английском языке)',\n",
       " 'Экономика',\n",
       " 'Экономика',\n",
       " 'Экономика и статистика',\n",
       " 'Экономика и статистика',\n",
       " 'Юриспруденция',\n",
       " 'Юриспруденция: частное право']"
      ]
     },
     "execution_count": 57,
     "metadata": {},
     "output_type": "execute_result"
    }
   ],
   "source": [
    "all_variants"
   ]
  },
  {
   "cell_type": "code",
   "execution_count": 58,
   "metadata": {},
   "outputs": [],
   "source": [
    "check_list = []\n",
    "aproved_programs = []\n",
    "count = 0\n",
    "for prog in all_variants:\n",
    "    if prog in check_list:\n",
    "        count += 1\n",
    "        if count == 3:\n",
    "            aproved_programs.append(prog)\n",
    "    else:\n",
    "        count = 1\n",
    "        check_list.append(prog)"
   ]
  },
  {
   "cell_type": "code",
   "execution_count": 59,
   "metadata": {},
   "outputs": [
    {
     "data": {
      "text/plain": [
       "['Инфокоммуникационные технологии и системы связи',\n",
       " 'Информатика и вычислительная техника',\n",
       " 'Информационная безопасность',\n",
       " 'Математика',\n",
       " 'Прикладная математика',\n",
       " 'Совместный бакалавриат НИУ ВШЭ и Центра педагогического мастерства',\n",
       " 'Физика']"
      ]
     },
     "execution_count": 59,
     "metadata": {},
     "output_type": "execute_result"
    }
   ],
   "source": [
    "aproved_programs"
   ]
  },
  {
   "cell_type": "code",
   "execution_count": 62,
   "metadata": {},
   "outputs": [
    {
     "data": {
      "text/plain": [
       "{'физика': 70, 'математика': 70, 'русский язык': 60, nan: nan}"
      ]
     },
     "execution_count": 62,
     "metadata": {},
     "output_type": "execute_result"
    }
   ],
   "source": [
    "user_score = [70, 70, 60]\n",
    "final_result = []\n",
    "program_data = data.loc[data['program_spec']=='Физика']\n",
    "program_dict = dict(zip(list(program_data.entrance_tests), list(program_data.link)))\n",
    "program_dict\n",
    "\n",
    "\n",
    "#for prog in aproved_prograns:\n",
    "    #if "
   ]
  },
  {
   "cell_type": "code",
   "execution_count": 65,
   "metadata": {},
   "outputs": [
    {
     "data": {
      "text/plain": [
       "{'математика': 70, 'физика': 70, 'русский язык': 60}"
      ]
     },
     "execution_count": 65,
     "metadata": {},
     "output_type": "execute_result"
    }
   ],
   "source": [
    "user_dict = dict(zip(user_input, user_score))\n",
    "user_dict"
   ]
  },
  {
   "cell_type": "code",
   "execution_count": 66,
   "metadata": {},
   "outputs": [],
   "source": [
    "# проверяем физику\n",
    "count = 0\n",
    "for subject in user_input:\n",
    "    if program_dict[subject] > user_dict[subject]:\n",
    "        break\n",
    "    else:\n",
    "        count += 1\n",
    "        if count == 3:\n",
    "            final_result.append('Физика')\n",
    "        "
   ]
  },
  {
   "cell_type": "code",
   "execution_count": 68,
   "metadata": {},
   "outputs": [
    {
     "data": {
      "text/plain": [
       "{'математика': 75, 'физика': 65, 'русский язык': 60}"
      ]
     },
     "execution_count": 68,
     "metadata": {},
     "output_type": "execute_result"
    }
   ],
   "source": [
    "program_data = data.loc[data['program_spec']=='Математика']\n",
    "program_dict = dict(zip(list(program_data.entrance_tests), list(program_data.min_score)))\n",
    "program_dict"
   ]
  },
  {
   "cell_type": "code",
   "execution_count": 69,
   "metadata": {},
   "outputs": [],
   "source": [
    "# проверяем математику\n",
    "count = 0\n",
    "for subject in user_input:\n",
    "    if program_dict[subject] > user_dict[subject]:\n",
    "        break\n",
    "    else:\n",
    "        count += 1\n",
    "        if count == 3:\n",
    "            final_result.append('Математика')"
   ]
  },
  {
   "cell_type": "code",
   "execution_count": 70,
   "metadata": {},
   "outputs": [
    {
     "data": {
      "text/plain": [
       "['Физика']"
      ]
     },
     "execution_count": 70,
     "metadata": {},
     "output_type": "execute_result"
    }
   ],
   "source": [
    "final_result"
   ]
  },
  {
   "cell_type": "code",
   "execution_count": null,
   "metadata": {},
   "outputs": [],
   "source": []
  }
 ],
 "metadata": {
  "kernelspec": {
   "display_name": "Python 3",
   "language": "python",
   "name": "python3"
  },
  "language_info": {
   "codemirror_mode": {
    "name": "ipython",
    "version": 3
   },
   "file_extension": ".py",
   "mimetype": "text/x-python",
   "name": "python",
   "nbconvert_exporter": "python",
   "pygments_lexer": "ipython3",
   "version": "3.7.6"
  }
 },
 "nbformat": 4,
 "nbformat_minor": 4
}
